{
 "cells": [
  {
   "cell_type": "code",
   "execution_count": 13,
   "id": "770818a3-17e6-4996-a57d-6791891b9c36",
   "metadata": {},
   "outputs": [],
   "source": [
    "from __future__ import annotations\n",
    "\n",
    "import pandas as pd\n",
    "import numpy as np\n",
    "from pingouin import ancova\n",
    "from statsmodels.formula.api import ols\n",
    "from statsmodels.stats.weightstats import ttest_ind\n",
    "from pathlib import Path\n",
    "from dataclasses import dataclass\n",
    "\n",
    "\n",
    "@dataclass\n",
    "class AncovaResult:\n",
    "    \"\"\"Dataclass for storing ANCOVA analysis results.\"\"\"\n",
    "    sample_id:str\n",
    "    ph_covar:bool\n",
    "    p_enhancer:float\n",
    "    p_suppressor:float\n",
    "    \n",
    "class CovarProcessor:\n",
    "    \"\"\"\n",
    "    Main class for processing activity data.\n",
    "    \n",
    "\n",
    "    input_path: Input tsv file that contains one dependent variable (dv) column, one between-subjects factor column with two levels (bf), and one covariate (covar) column\n",
    "    max_covar_p_value: maximal allowed P value for rejecting no significant correlation hypothesis (default 0.05)\n",
    "    \"\"\"\n",
    "    \n",
    "    def __init__(\n",
    "        self,\n",
    "        sample_id:str,\n",
    "        input_path:Path,\n",
    "        max_covar_p_value:float = 0.05,\n",
    "        ):\n",
    "        \n",
    "        self.sample_id = sample_id\n",
    "        self.input_path = input_path\n",
    "        self.max_covar_p_value = max_covar_p_value\n",
    "\n",
    "        self.open_tsv()\n",
    "        \n",
    "    def open_tsv(self):\n",
    "        \"\"\"load in tsv file\"\"\"\n",
    "\n",
    "        self.df_raw = pd.read_table(self.input_path)\n",
    "        \n",
    "    def ancova_analysis(self) -> bool:\n",
    "        \"\"\"Run ANCOVA and determine if pH is a significant covariate \"\"\"\n",
    "\n",
    "        covar_stats = ancova(data = self.df_raw, dv = 'activity',between=\"treatment\", covar=\"ph\")\n",
    "        return (covar_stats.query('Source == \"ph\"')['p-unc'] < self.max_covar_p_value).values[0]\n",
    "        \n",
    "    def t_test(self) -> AncovaResult:\n",
    "        \"\"\"Execute t test on activities with/ without peptide treatment and return \"\"\"\n",
    "        \n",
    "        if significant_ph:=self.ancova_analysis(): # perform linear fitting if pH is a significant covariate otherwise use mean for residue calculaition\n",
    "            lm = ols(\"activity ~ ph\", self.df_raw).fit()\n",
    "            y_hat = lm.predict(self.df_raw['ph'])\n",
    "            self.df_raw[\"residual\"] = self.df_raw['activity'] - y_hat\n",
    "        else:\n",
    "            self.df_raw[\"residual\"] = self.df_raw['activity'] - np.mean(self.df_raw['activity'])\n",
    "\n",
    "        t_test_result_1 = ttest_ind(x1=self.df_raw.query('treatment==1')['residual'], x2=self.df_raw.query('treatment==0')['residual'], alternative = \"larger\") # test if peptide is an enhancer\n",
    "        t_test_result_2 = ttest_ind(x1=self.df_raw.query('treatment==1')['residual'], x2=self.df_raw.query('treatment==0')['residual'], alternative = \"smaller\") # test if peptide is a suppressor\n",
    "\n",
    "        return AncovaResult(self.sample_id, significant_ph, t_test_result_1[1], t_test_result_2[1])\n",
    "    \n",
    "        "
   ]
  },
  {
   "cell_type": "code",
   "execution_count": 14,
   "id": "bf3c68fd-a704-4d0c-b24e-4ac73baad4e6",
   "metadata": {},
   "outputs": [],
   "source": [
    "a1 = CovarProcessor(sample_id = \"smaple1\", input_path = \"samples/smaple1.tsv\", max_covar_p_value = 0.05).t_test()"
   ]
  },
  {
   "cell_type": "code",
   "execution_count": 15,
   "id": "43cb7dfa-f7e5-4c4e-8d6f-b3dda7a7a9ee",
   "metadata": {},
   "outputs": [],
   "source": [
    "a2 = CovarProcessor(sample_id = \"smaple2\", input_path = \"samples/smaple2.tsv\", max_covar_p_value = 0.05).t_test()"
   ]
  },
  {
   "cell_type": "code",
   "execution_count": 16,
   "id": "d059d968-57ef-4950-a146-0bf5e498d7f6",
   "metadata": {},
   "outputs": [
    {
     "data": {
      "text/plain": [
       "False"
      ]
     },
     "execution_count": 16,
     "metadata": {},
     "output_type": "execute_result"
    }
   ],
   "source": [
    "a1.ph_covar"
   ]
  },
  {
   "cell_type": "code",
   "execution_count": 66,
   "id": "8ccaed77-8ff7-4c64-9bba-b206302f6a69",
   "metadata": {},
   "outputs": [],
   "source": [
    "def merger(*results):\n",
    "    stats = [[sample.sample_id,\n",
    "    sample.ph_covar,\n",
    "    sample.p_enhancer,\n",
    "    sample.p_suppressor] for sample in results]\n",
    "    print(stats)"
   ]
  },
  {
   "cell_type": "code",
   "execution_count": 67,
   "id": "427ec4ea-29c4-4692-ad0c-bf350fbd83d4",
   "metadata": {},
   "outputs": [
    {
     "name": "stdout",
     "output_type": "stream",
     "text": [
      "[['smaple1', False, 0.009925472776460904, 0.9900745272235391], ['smaple2', False, 0.029194715909952037, 0.970805284090048]]\n"
     ]
    }
   ],
   "source": [
    "merger(a1,a2)"
   ]
  },
  {
   "cell_type": "code",
   "execution_count": null,
   "id": "52def415-4cdd-4f4c-9d2c-d7219639c5e4",
   "metadata": {},
   "outputs": [],
   "source": []
  },
  {
   "cell_type": "code",
   "execution_count": 80,
   "id": "f4d8766e-7d44-44f7-b2e8-64c1ca3f0b15",
   "metadata": {},
   "outputs": [],
   "source": [
    "import sqlite3\n",
    "from sqlite3 import Error"
   ]
  },
  {
   "cell_type": "code",
   "execution_count": 81,
   "id": "b540ffb8-64aa-4810-9e6f-5e26200b1544",
   "metadata": {},
   "outputs": [],
   "source": [
    "def create_connection(db_file):\n",
    "    \"\"\" create a database connection to the SQLite database\n",
    "        specified by db_file\n",
    "    :param db_file: database file\n",
    "    :return: Connection object or None\n",
    "    \"\"\"\n",
    "    conn = None\n",
    "    try:\n",
    "        conn = sqlite3.connect(db_file)\n",
    "    except Error as e:\n",
    "        print(e)\n",
    "\n",
    "    return conn"
   ]
  },
  {
   "cell_type": "code",
   "execution_count": 83,
   "id": "93223e4c-45cf-41d4-92e6-841c8e1b9918",
   "metadata": {},
   "outputs": [],
   "source": [
    "conn = create_connection(\"sqlite.db\")"
   ]
  },
  {
   "cell_type": "code",
   "execution_count": 84,
   "id": "29fed194-91b5-4b90-9f37-66bd60c58347",
   "metadata": {},
   "outputs": [],
   "source": [
    "def create_db(conn):\n",
    "    sql_create = \"\"\"CREATE TABLE IF NOT EXISTS pep_stats (sample_id TEXT PRIMARYKEY, ph_covar CHAR, p_enhancer FLOAT, p_suppressor FLOAT, CONSTRAINT id_unique UNIQUE (sample_id)) \"\"\"\n",
    "    with conn:\n",
    "        conn.execute(sql_create)"
   ]
  },
  {
   "cell_type": "code",
   "execution_count": 85,
   "id": "7c9cb985-1281-4df7-a29a-627907e68294",
   "metadata": {},
   "outputs": [],
   "source": [
    "def insert_db(conn, ancova_results):\n",
    "    sql_insert = \"\"\" INSERT OR REPLACE INTO pep_stats (sample_id, ph_covar, p_enhancer, p_suppressor) VALUES (?,?,?,?)\"\"\"\n",
    "    with conn:\n",
    "        conn.execute(sql_insert, (ancova_results.sample_id, ancova_results.ph_covar, ancova_results.p_enhancer, ancova_results.p_suppressor,))\n"
   ]
  },
  {
   "cell_type": "code",
   "execution_count": 86,
   "id": "72b99eee-3bd8-46b6-b758-8e688216ee92",
   "metadata": {},
   "outputs": [],
   "source": [
    "create_db(conn)"
   ]
  },
  {
   "cell_type": "code",
   "execution_count": 91,
   "id": "60828eab-ea9b-4ff2-92f0-3e0aa5a982bc",
   "metadata": {},
   "outputs": [],
   "source": [
    "insert_db(conn, a1)"
   ]
  },
  {
   "cell_type": "code",
   "execution_count": 92,
   "id": "ae99e362-b1f1-45c9-a4d4-562ff7f817f5",
   "metadata": {},
   "outputs": [],
   "source": [
    "insert_db(conn, a2)"
   ]
  },
  {
   "cell_type": "code",
   "execution_count": 93,
   "id": "4efb3649-9c42-46ea-aefe-b673b8e87fd4",
   "metadata": {},
   "outputs": [],
   "source": [
    "def get_db(conn):\n",
    "    sql_get = \"\"\"SELECT * from pep_stats \"\"\"\n",
    "    with conn:\n",
    "        df_query = pd.read_sql_query(\"SELECT * from pep_stats\", conn)\n",
    "        df_query['ph_covar'] = df_query['ph_covar'].apply(lambda x: False if '\\x00' else True)\n",
    "        return df_query"
   ]
  },
  {
   "cell_type": "code",
   "execution_count": 94,
   "id": "64a51a44-91cd-4fd2-8a7a-6463f33fa46d",
   "metadata": {},
   "outputs": [
    {
     "data": {
      "text/html": [
       "<div>\n",
       "<style scoped>\n",
       "    .dataframe tbody tr th:only-of-type {\n",
       "        vertical-align: middle;\n",
       "    }\n",
       "\n",
       "    .dataframe tbody tr th {\n",
       "        vertical-align: top;\n",
       "    }\n",
       "\n",
       "    .dataframe thead th {\n",
       "        text-align: right;\n",
       "    }\n",
       "</style>\n",
       "<table border=\"1\" class=\"dataframe\">\n",
       "  <thead>\n",
       "    <tr style=\"text-align: right;\">\n",
       "      <th></th>\n",
       "      <th>sample_id</th>\n",
       "      <th>ph_covar</th>\n",
       "      <th>p_enhancer</th>\n",
       "      <th>p_suppressor</th>\n",
       "    </tr>\n",
       "  </thead>\n",
       "  <tbody>\n",
       "    <tr>\n",
       "      <th>0</th>\n",
       "      <td>smaple1</td>\n",
       "      <td>False</td>\n",
       "      <td>0.009925</td>\n",
       "      <td>0.990075</td>\n",
       "    </tr>\n",
       "    <tr>\n",
       "      <th>1</th>\n",
       "      <td>smaple2</td>\n",
       "      <td>False</td>\n",
       "      <td>0.029195</td>\n",
       "      <td>0.970805</td>\n",
       "    </tr>\n",
       "  </tbody>\n",
       "</table>\n",
       "</div>"
      ],
      "text/plain": [
       "  sample_id  ph_covar  p_enhancer  p_suppressor\n",
       "0   smaple1     False    0.009925      0.990075\n",
       "1   smaple2     False    0.029195      0.970805"
      ]
     },
     "execution_count": 94,
     "metadata": {},
     "output_type": "execute_result"
    }
   ],
   "source": [
    "get_db(conn)"
   ]
  },
  {
   "cell_type": "code",
   "execution_count": 95,
   "id": "149b825b-4956-4f3c-8d32-98d6707e7c3d",
   "metadata": {},
   "outputs": [],
   "source": [
    "a1 = CovarProcessor(sample_id = \"smaple1\", input_path = \"samples/smaple3.tsv\", max_covar_p_value = 0.05).t_test()"
   ]
  },
  {
   "cell_type": "code",
   "execution_count": 96,
   "id": "9dc0dc90-2445-45aa-9ca7-03a7ade3b9e5",
   "metadata": {},
   "outputs": [],
   "source": [
    "insert_db(conn, a1)"
   ]
  },
  {
   "cell_type": "code",
   "execution_count": 97,
   "id": "6c78ec68-30da-405c-99e6-73746c4964b6",
   "metadata": {},
   "outputs": [
    {
     "data": {
      "text/html": [
       "<div>\n",
       "<style scoped>\n",
       "    .dataframe tbody tr th:only-of-type {\n",
       "        vertical-align: middle;\n",
       "    }\n",
       "\n",
       "    .dataframe tbody tr th {\n",
       "        vertical-align: top;\n",
       "    }\n",
       "\n",
       "    .dataframe thead th {\n",
       "        text-align: right;\n",
       "    }\n",
       "</style>\n",
       "<table border=\"1\" class=\"dataframe\">\n",
       "  <thead>\n",
       "    <tr style=\"text-align: right;\">\n",
       "      <th></th>\n",
       "      <th>sample_id</th>\n",
       "      <th>ph_covar</th>\n",
       "      <th>p_enhancer</th>\n",
       "      <th>p_suppressor</th>\n",
       "    </tr>\n",
       "  </thead>\n",
       "  <tbody>\n",
       "    <tr>\n",
       "      <th>0</th>\n",
       "      <td>smaple2</td>\n",
       "      <td>False</td>\n",
       "      <td>0.029195</td>\n",
       "      <td>0.970805</td>\n",
       "    </tr>\n",
       "    <tr>\n",
       "      <th>1</th>\n",
       "      <td>smaple1</td>\n",
       "      <td>False</td>\n",
       "      <td>0.051893</td>\n",
       "      <td>0.948107</td>\n",
       "    </tr>\n",
       "  </tbody>\n",
       "</table>\n",
       "</div>"
      ],
      "text/plain": [
       "  sample_id  ph_covar  p_enhancer  p_suppressor\n",
       "0   smaple2     False    0.029195      0.970805\n",
       "1   smaple1     False    0.051893      0.948107"
      ]
     },
     "execution_count": 97,
     "metadata": {},
     "output_type": "execute_result"
    }
   ],
   "source": [
    "get_db(conn)"
   ]
  },
  {
   "cell_type": "code",
   "execution_count": null,
   "id": "7dc2bc5a-68d4-4714-aa62-42f247410a39",
   "metadata": {},
   "outputs": [],
   "source": []
  }
 ],
 "metadata": {
  "kernelspec": {
   "display_name": "Python 3 (ipykernel)",
   "language": "python",
   "name": "python3"
  },
  "language_info": {
   "codemirror_mode": {
    "name": "ipython",
    "version": 3
   },
   "file_extension": ".py",
   "mimetype": "text/x-python",
   "name": "python",
   "nbconvert_exporter": "python",
   "pygments_lexer": "ipython3",
   "version": "3.10.5"
  }
 },
 "nbformat": 4,
 "nbformat_minor": 5
}
