{
 "cells": [
  {
   "cell_type": "code",
   "execution_count": 232,
   "id": "45fc4dda-7659-47b2-91eb-89bb7883893f",
   "metadata": {},
   "outputs": [],
   "source": [
    "import scipy as sp\n",
    "import pandas as pd\n",
    "import random\n",
    "import numpy as np\n",
    "import seaborn as sns"
   ]
  },
  {
   "cell_type": "code",
   "execution_count": 242,
   "id": "519d75a1-99d9-491a-806a-aa9f2aad7d74",
   "metadata": {},
   "outputs": [],
   "source": [
    "import statsmodels.api as sm\n",
    "import statsmodels.formula.api as smf"
   ]
  },
  {
   "cell_type": "code",
   "execution_count": 14,
   "id": "af1d7921-f7af-45d9-80c4-6c0c1065b611",
   "metadata": {},
   "outputs": [],
   "source": [
    "import matplotlib.pyplot as plt"
   ]
  },
  {
   "cell_type": "code",
   "execution_count": 316,
   "id": "7237c6a5-fd81-4c36-a0e9-de3572079035",
   "metadata": {},
   "outputs": [
    {
     "data": {
      "text/plain": [
       "(array([ 27.,  83., 148., 182., 239., 154.,  98.,  57.,  10.,   2.]),\n",
       " array([0.00593651, 0.12025389, 0.23457128, 0.34888866, 0.46320605,\n",
       "        0.57752343, 0.69184082, 0.80615821, 0.92047559, 1.03479298,\n",
       "        1.14911036]),\n",
       " <BarContainer object of 10 artists>)"
      ]
     },
     "execution_count": 316,
     "metadata": {},
     "output_type": "execute_result"
    },
    {
     "data": {
      "image/png": "[encoded data removed]",
      "text/plain": [
       "<Figure size 432x288 with 1 Axes>"
      ]
     },
     "metadata": {
      "needs_background": "light"
     },
     "output_type": "display_data"
    }
   ],
   "source": [
    "plt.hist(slope)"
   ]
  },
  {
   "cell_type": "code",
   "execution_count": 8,
   "id": "d10a8056-14b0-45db-98fb-f4a1131e623b",
   "metadata": {},
   "outputs": [
    {
     "data": {
      "text/plain": [
       "PosixPath('.')"
      ]
     },
     "execution_count": 8,
     "metadata": {},
     "output_type": "execute_result"
    }
   ],
   "source": [
    "Path(\"json.json\").parent"
   ]
  },
  {
   "cell_type": "code",
   "execution_count": 38,
   "id": "bfdc69f7-2fd8-4f27-af38-32a70b4a3139",
   "metadata": {},
   "outputs": [],
   "source": [
    "import json\n",
    "import numpy as np\n",
    "import pandas as pd\n",
    "from pathlib import Path\n",
    "\n",
    "\n",
    "np.random.seed(666)\n",
    "\n",
    "def create_fake_data(num_sample:int=50, num_rep:int = 5):\n",
    "    \"\"\"create fake tsv files and a fake json file that minics LIMS query result; each tsv file is coresponding to one sample.  \"\"\"\n",
    "    \n",
    "    def _activity(x, a, b, e):\n",
    "        return a*x + b + e\n",
    "    \n",
    "    def _retrive_sample():\n",
    "        for sample in df_raw.groupby('sample'):\n",
    "            yield sample\n",
    "\n",
    "    temp_path = Path(\"tmp\")\n",
    "    temp_path.mkdir(parents=True, exist_ok=True)    \n",
    "    \n",
    "    ph = (np.random.normal(loc = 0, scale = 0.2,size = num_sample*num_rep*2)+7)\n",
    "    slope = np.random.normal(loc = 0.5, scale = 0.2,size = num_sample)\n",
    "    factor = np.array([1]*num_rep + [0]*num_rep)\n",
    "    intercept = np.transpose(np.random.gamma(shape = 1.2, scale = 5, size = num_sample*num_rep*2).reshape(num_sample,num_rep*2)*factor)\n",
    "    error = np.random.normal(loc = 0, scale = 0.5,size = num_sample*num_rep*2).reshape(num_rep*2,num_sample) + 3\n",
    "    \n",
    "    df_raw = pd.DataFrame(_activity(x = ph.reshape(num_rep*2,num_sample), a = slope, b = intercept, e = error), index = factor, columns = [f\"smaple{i+1}\" for i in range(num_sample)]).stack().reset_index()\n",
    "    df_raw.columns = [\"treatment\", \"sample\",\"activity\"]\n",
    "    df_raw['ph'] = ph\n",
    "    df_raw = df_raw.set_index(['sample'])\n",
    "    \n",
    "    dict_json = {}\n",
    "    for sample in _retrive_sample():\n",
    "        path = temp_path / f\"{sample[0]}.tsv\"\n",
    "        dict_json.update({sample[0]:str(path.resolve())}) \n",
    "        sample[1][[\"treatment\", \"ph\",\"activity\"]].to_csv(path, sep = '\\t', index = False)\n",
    "    \n",
    "    with open(temp_path / \"input_files.json\",\"w\") as fo:\n",
    "        json.dump(dict_json,fo)"
   ]
  },
  {
   "cell_type": "code",
   "execution_count": 39,
   "id": "90ab5edc-ba1c-4b20-819c-2dfd71bffc53",
   "metadata": {},
   "outputs": [],
   "source": [
    "create_fake_data()"
   ]
  },
  {
   "cell_type": "code",
   "execution_count": 18,
   "id": "7aeda090-bc84-4727-8b81-52ccc083ce17",
   "metadata": {},
   "outputs": [
    {
     "data": {
      "text/plain": [
       "PosixPath('tmp/input_files.json')"
      ]
     },
     "execution_count": 18,
     "metadata": {},
     "output_type": "execute_result"
    }
   ],
   "source": [
    "temp_path / \"input_files.json\""
   ]
  },
  {
   "cell_type": "code",
   "execution_count": 442,
   "id": "0c53be54-c002-4164-9a7a-16b5096b838e",
   "metadata": {},
   "outputs": [
    {
     "data": {
      "text/plain": [
       "(array([333.,  59.,  36.,  35.,  17.,   9.,   2.,   2.,   4.,   3.]),\n",
       " array([ 0.        ,  2.54830756,  5.09661512,  7.64492268, 10.19323023,\n",
       "        12.74153779, 15.28984535, 17.83815291, 20.38646047, 22.93476803,\n",
       "        25.48307559]),\n",
       " <BarContainer object of 10 artists>)"
      ]
     },
     "execution_count": 442,
     "metadata": {},
     "output_type": "execute_result"
    },
    {
     "data": {
      "image/png": "[encoded data removed]",
      "text/plain": [
       "<Figure size 432x288 with 1 Axes>"
      ]
     },
     "metadata": {
      "needs_background": "light"
     },
     "output_type": "display_data"
    }
   ],
   "source": [
    "plt.hist(intercept.reshape(500,))"
   ]
  },
  {
   "cell_type": "code",
   "execution_count": 443,
   "id": "9f88c90f-ab0c-4991-9e49-46d82eaa9b9f",
   "metadata": {},
   "outputs": [],
   "source": [
    "def activity(x, a, b, e):\n",
    "    return a*x + b + e"
   ]
  },
  {
   "cell_type": "code",
   "execution_count": 447,
   "id": "13bb6884-f35e-426c-8e6d-7544b896af81",
   "metadata": {},
   "outputs": [],
   "source": [
    "df_raw = pd.DataFrame(activity(x = ph.reshape(10,50), a = slope, b = intercept, e = error), index = factor, columns = [f\"smaple{i+1}\" for i in range(50)]).stack().reset_index()\n",
    "df_raw.columns = [\"treatment\", \"sample\",\"activity\"]\n",
    "df_raw['ph'] = ph\n",
    "df_raw = df_raw.set_index(['sample'])"
   ]
  },
  {
   "cell_type": "code",
   "execution_count": 448,
   "id": "52f91190-f958-4c45-ab5d-3a6d538ffb6d",
   "metadata": {},
   "outputs": [],
   "source": [
    "def retrive_sample():\n",
    "    for sample in df_raw.groupby('sample'):\n",
    "        yield sample"
   ]
  },
  {
   "cell_type": "code",
   "execution_count": 488,
   "id": "a066e22a-d870-4140-940e-e26830875681",
   "metadata": {},
   "outputs": [
    {
     "data": {
      "text/html": [
       "<div>\n",
       "<style scoped>\n",
       "    .dataframe tbody tr th:only-of-type {\n",
       "        vertical-align: middle;\n",
       "    }\n",
       "\n",
       "    .dataframe tbody tr th {\n",
       "        vertical-align: top;\n",
       "    }\n",
       "\n",
       "    .dataframe thead th {\n",
       "        text-align: right;\n",
       "    }\n",
       "</style>\n",
       "<table border=\"1\" class=\"dataframe\">\n",
       "  <thead>\n",
       "    <tr style=\"text-align: right;\">\n",
       "      <th></th>\n",
       "      <th>treatment</th>\n",
       "      <th>activity</th>\n",
       "      <th>ph</th>\n",
       "      <th>y_hat</th>\n",
       "    </tr>\n",
       "    <tr>\n",
       "      <th>sample</th>\n",
       "      <th></th>\n",
       "      <th></th>\n",
       "      <th></th>\n",
       "      <th></th>\n",
       "    </tr>\n",
       "  </thead>\n",
       "  <tbody>\n",
       "    <tr>\n",
       "      <th>smaple24</th>\n",
       "      <td>1</td>\n",
       "      <td>8.575914</td>\n",
       "      <td>7.170580</td>\n",
       "      <td>12.312441</td>\n",
       "    </tr>\n",
       "    <tr>\n",
       "      <th>smaple24</th>\n",
       "      <td>1</td>\n",
       "      <td>13.416564</td>\n",
       "      <td>7.129099</td>\n",
       "      <td>12.008299</td>\n",
       "    </tr>\n",
       "    <tr>\n",
       "      <th>smaple24</th>\n",
       "      <td>1</td>\n",
       "      <td>29.264953</td>\n",
       "      <td>7.133984</td>\n",
       "      <td>12.044118</td>\n",
       "    </tr>\n",
       "    <tr>\n",
       "      <th>smaple24</th>\n",
       "      <td>1</td>\n",
       "      <td>16.513068</td>\n",
       "      <td>6.938657</td>\n",
       "      <td>10.611970</td>\n",
       "    </tr>\n",
       "    <tr>\n",
       "      <th>smaple24</th>\n",
       "      <td>1</td>\n",
       "      <td>11.222969</td>\n",
       "      <td>7.353641</td>\n",
       "      <td>13.654651</td>\n",
       "    </tr>\n",
       "    <tr>\n",
       "      <th>smaple24</th>\n",
       "      <td>0</td>\n",
       "      <td>7.439047</td>\n",
       "      <td>7.167824</td>\n",
       "      <td>12.292233</td>\n",
       "    </tr>\n",
       "    <tr>\n",
       "      <th>smaple24</th>\n",
       "      <td>0</td>\n",
       "      <td>7.349804</td>\n",
       "      <td>6.861388</td>\n",
       "      <td>10.045432</td>\n",
       "    </tr>\n",
       "    <tr>\n",
       "      <th>smaple24</th>\n",
       "      <td>0</td>\n",
       "      <td>6.463312</td>\n",
       "      <td>6.797688</td>\n",
       "      <td>9.578385</td>\n",
       "    </tr>\n",
       "    <tr>\n",
       "      <th>smaple24</th>\n",
       "      <td>0</td>\n",
       "      <td>7.664714</td>\n",
       "      <td>6.940182</td>\n",
       "      <td>10.623155</td>\n",
       "    </tr>\n",
       "    <tr>\n",
       "      <th>smaple24</th>\n",
       "      <td>0</td>\n",
       "      <td>7.863097</td>\n",
       "      <td>7.210176</td>\n",
       "      <td>12.602757</td>\n",
       "    </tr>\n",
       "  </tbody>\n",
       "</table>\n",
       "</div>"
      ],
      "text/plain": [
       "          treatment   activity        ph      y_hat\n",
       "sample                                             \n",
       "smaple24          1   8.575914  7.170580  12.312441\n",
       "smaple24          1  13.416564  7.129099  12.008299\n",
       "smaple24          1  29.264953  7.133984  12.044118\n",
       "smaple24          1  16.513068  6.938657  10.611970\n",
       "smaple24          1  11.222969  7.353641  13.654651\n",
       "smaple24          0   7.439047  7.167824  12.292233\n",
       "smaple24          0   7.349804  6.861388  10.045432\n",
       "smaple24          0   6.463312  6.797688   9.578385\n",
       "smaple24          0   7.664714  6.940182  10.623155\n",
       "smaple24          0   7.863097  7.210176  12.602757"
      ]
     },
     "execution_count": 488,
     "metadata": {},
     "output_type": "execute_result"
    }
   ],
   "source": [
    "sample[1]"
   ]
  },
  {
   "cell_type": "code",
   "execution_count": 489,
   "id": "4f3bac85-fb45-448f-bf47-262e1fd8b227",
   "metadata": {},
   "outputs": [],
   "source": [
    "import json"
   ]
  },
  {
   "cell_type": "code",
   "execution_count": 25,
   "id": "c4a6bf38-876c-420b-8710-d4b396f67c12",
   "metadata": {},
   "outputs": [
    {
     "ename": "NameError",
     "evalue": "name 'retrive_sample' is not defined",
     "output_type": "error",
     "traceback": [
      "\u001b[0;31m---------------------------------------------------------------------------\u001b[0m",
      "\u001b[0;31mNameError\u001b[0m                                 Traceback (most recent call last)",
      "Input \u001b[0;32mIn [25]\u001b[0m, in \u001b[0;36m<cell line: 3>\u001b[0;34m()\u001b[0m\n\u001b[1;32m      1\u001b[0m get_ipython()\u001b[38;5;241m.\u001b[39msystem(\u001b[38;5;124m'\u001b[39m\u001b[38;5;124mmkdir samples\u001b[39m\u001b[38;5;124m'\u001b[39m)\n\u001b[1;32m      2\u001b[0m json_path \u001b[38;5;241m=\u001b[39m {}\n\u001b[0;32m----> 3\u001b[0m \u001b[38;5;28;01mfor\u001b[39;00m sample \u001b[38;5;129;01min\u001b[39;00m \u001b[43mretrive_sample\u001b[49m():\n\u001b[1;32m      4\u001b[0m     path \u001b[38;5;241m=\u001b[39m \u001b[38;5;124mf\u001b[39m\u001b[38;5;124m\"\u001b[39m\u001b[38;5;124msamples/\u001b[39m\u001b[38;5;132;01m{\u001b[39;00msample[\u001b[38;5;241m0\u001b[39m]\u001b[38;5;132;01m}\u001b[39;00m\u001b[38;5;124m.tsv\u001b[39m\u001b[38;5;124m\"\u001b[39m\n\u001b[1;32m      5\u001b[0m     json_path\u001b[38;5;241m.\u001b[39mupdate({sample[\u001b[38;5;241m0\u001b[39m]:path}) \n",
      "\u001b[0;31mNameError\u001b[0m: name 'retrive_sample' is not defined"
     ]
    }
   ],
   "source": [
    "!mkdir samples\n",
    "json_path = {}\n",
    "for sample in retrive_sample():\n",
    "    path = f\"samples/{sample[0]}.tsv\"\n",
    "    json_path.update({sample[0]:path}) \n",
    "    # sample[1][[\"treatment\", \"ph\",\"activity\"]].to_csv(path, sep = '\\t', index = False)\n",
    "    \n",
    "with open(\"sample_path.json\",\"w\") as fo:\n",
    "    json.dump(json_path,fo)"
   ]
  },
  {
   "cell_type": "code",
   "execution_count": 480,
   "id": "58446f40-8873-433e-aa1d-c409f1c38eae",
   "metadata": {},
   "outputs": [],
   "source": [
    "for j,i in enumerate(retrive_sample()):\n",
    "    sample = i\n",
    "    select = random.randint(1,999)\n",
    "    \n",
    "    if (select<j<select+10) and (ttest_ind(x1=sample[1].query('treatment==1')['activity'],x2=sample[1].query('treatment==0')['activity'],alternative = 'larger')[1]<0.05):\n",
    "        break\n",
    "        print(j)"
   ]
  },
  {
   "cell_type": "code",
   "execution_count": 481,
   "id": "8aaec0f2-a671-4aae-84f5-164b0a151eb4",
   "metadata": {},
   "outputs": [
    {
     "data": {
      "text/plain": [
       "<AxesSubplot:xlabel='treatment', ylabel='activity'>"
      ]
     },
     "execution_count": 481,
     "metadata": {},
     "output_type": "execute_result"
    },
    {
     "data": {
      "image/png": "[encoded data removed]",
      "text/plain": [
       "<Figure size 432x288 with 1 Axes>"
      ]
     },
     "metadata": {
      "needs_background": "light"
     },
     "output_type": "display_data"
    }
   ],
   "source": [
    "sns.boxplot(x = 'treatment', y = 'activity', data = sample[1])"
   ]
  },
  {
   "cell_type": "code",
   "execution_count": 482,
   "id": "29cf07e1-e70d-47c5-9210-c4b48a6e9a1e",
   "metadata": {},
   "outputs": [],
   "source": [
    "formula = \"activity ~ ph\"\n",
    "lm = ols(formula, sample[1]).fit()\n",
    "y_hat = lm.predict(sample[1]['ph'])\n",
    "sample[1]['y_hat'] = y_hat\n",
    "residual = (sample[1]['activity'] - y_hat)"
   ]
  },
  {
   "cell_type": "code",
   "execution_count": 483,
   "id": "b7834a0f-8709-44a3-b5d8-80381b3c3021",
   "metadata": {},
   "outputs": [
    {
     "data": {
      "text/plain": [
       "<AxesSubplot:xlabel='ph', ylabel='activity'>"
      ]
     },
     "execution_count": 483,
     "metadata": {},
     "output_type": "execute_result"
    },
    {
     "data": {
      "image/png": "[encoded data removed]",
      "text/plain": [
       "<Figure size 432x288 with 1 Axes>"
      ]
     },
     "metadata": {
      "needs_background": "light"
     },
     "output_type": "display_data"
    }
   ],
   "source": [
    "sns.scatterplot(x = 'ph', y = 'activity', hue = 'treatment', data = sample[1])\n",
    "# sns.lineplot(data=cts, x='X', y='Y',estimator='max', color='red')\n",
    "sns.lineplot(x = 'ph', y = 'y_hat',estimator='max', color = 'black',data = sample[1].reset_index())"
   ]
  },
  {
   "cell_type": "code",
   "execution_count": 484,
   "id": "335faff4-6fd3-4902-a7e3-d39ae4a6a1c5",
   "metadata": {},
   "outputs": [
    {
     "data": {
      "text/html": [
       "<div>\n",
       "<style scoped>\n",
       "    .dataframe tbody tr th:only-of-type {\n",
       "        vertical-align: middle;\n",
       "    }\n",
       "\n",
       "    .dataframe tbody tr th {\n",
       "        vertical-align: top;\n",
       "    }\n",
       "\n",
       "    .dataframe thead th {\n",
       "        text-align: right;\n",
       "    }\n",
       "</style>\n",
       "<table border=\"1\" class=\"dataframe\">\n",
       "  <thead>\n",
       "    <tr style=\"text-align: right;\">\n",
       "      <th></th>\n",
       "      <th>Source</th>\n",
       "      <th>SS</th>\n",
       "      <th>DF</th>\n",
       "      <th>F</th>\n",
       "      <th>p-unc</th>\n",
       "      <th>np2</th>\n",
       "    </tr>\n",
       "  </thead>\n",
       "  <tbody>\n",
       "    <tr>\n",
       "      <th>0</th>\n",
       "      <td>treatment</td>\n",
       "      <td>168.751880</td>\n",
       "      <td>1</td>\n",
       "      <td>4.610232</td>\n",
       "      <td>0.068903</td>\n",
       "      <td>0.397084</td>\n",
       "    </tr>\n",
       "    <tr>\n",
       "      <th>1</th>\n",
       "      <td>ph</td>\n",
       "      <td>5.560703</td>\n",
       "      <td>1</td>\n",
       "      <td>0.151916</td>\n",
       "      <td>0.708298</td>\n",
       "      <td>0.021241</td>\n",
       "    </tr>\n",
       "    <tr>\n",
       "      <th>2</th>\n",
       "      <td>Residual</td>\n",
       "      <td>256.226388</td>\n",
       "      <td>7</td>\n",
       "      <td>NaN</td>\n",
       "      <td>NaN</td>\n",
       "      <td>NaN</td>\n",
       "    </tr>\n",
       "  </tbody>\n",
       "</table>\n",
       "</div>"
      ],
      "text/plain": [
       "      Source          SS  DF         F     p-unc       np2\n",
       "0  treatment  168.751880   1  4.610232  0.068903  0.397084\n",
       "1         ph    5.560703   1  0.151916  0.708298  0.021241\n",
       "2   Residual  256.226388   7       NaN       NaN       NaN"
      ]
     },
     "execution_count": 484,
     "metadata": {},
     "output_type": "execute_result"
    }
   ],
   "source": [
    "ancova(data = sample[1],dv = 'activity',between=\"treatment\", covar=\"ph\")"
   ]
  },
  {
   "cell_type": "code",
   "execution_count": 499,
   "id": "0788c3fa-b86a-44dd-a638-ae8028ceadcf",
   "metadata": {},
   "outputs": [],
   "source": [
    "a = ancova(data = sample[1],dv = 'activity',between=\"treatment\", covar=\"ph\")"
   ]
  },
  {
   "cell_type": "code",
   "execution_count": 507,
   "id": "e32b8687-c832-445b-89ec-dd2a8484f30b",
   "metadata": {},
   "outputs": [
    {
     "data": {
      "text/plain": [
       "1    False\n",
       "Name: p-unc, dtype: bool"
      ]
     },
     "execution_count": 507,
     "metadata": {},
     "output_type": "execute_result"
    }
   ],
   "source": [
    "a.query('Source == \"ph\"')['p-unc'] < 0.05"
   ]
  },
  {
   "cell_type": "code",
   "execution_count": 485,
   "id": "f7de9a7b-5b36-4fc6-888f-f5468cb4522b",
   "metadata": {},
   "outputs": [
    {
     "data": {
      "text/plain": [
       "0.02394674434183818"
      ]
     },
     "execution_count": 485,
     "metadata": {},
     "output_type": "execute_result"
    }
   ],
   "source": [
    "ttest_ind(x1=sample[1].query('treatment==1')['activity'],x2=sample[1].query('treatment==0')['activity'],alternative = 'larger')[1]"
   ]
  },
  {
   "cell_type": "code",
   "execution_count": 486,
   "id": "c75652c9-e2ec-4755-9952-c7fba016728f",
   "metadata": {},
   "outputs": [
    {
     "data": {
      "text/plain": [
       "0.09700271913911238"
      ]
     },
     "execution_count": 486,
     "metadata": {},
     "output_type": "execute_result"
    }
   ],
   "source": [
    "ttest_ind(x1=sample[1].query('treatment==1')['y_hat'],x2=sample[1].query('treatment==0')['y_hat'],alternative = 'larger')[1]"
   ]
  },
  {
   "cell_type": "code",
   "execution_count": 548,
   "id": "dc6060c0-c0b2-4351-83aa-852160678269",
   "metadata": {},
   "outputs": [
    {
     "name": "stdout",
     "output_type": "stream",
     "text": [
      "Traceback (most recent call last):\n",
      "  File \"/home/jovyan/Documents/jupyter/pep-detective/pep_detective/bin/effect_detector.py\", line 59, in <module>\n",
      "    main(args)\n",
      "  File \"/home/jovyan/Documents/jupyter/pep-detective/pep_detective/bin/effect_detector.py\", line 51, in main\n",
      "    with CovarProcessor(sample_id = args.sample_id, input_path = args.input_file, max_covar_p_value = args.p_value) as samplecovar:\n",
      "  File \"/opt/conda/lib/python3.10/site-packages/pep_detective/src/common.py\", line 40, in __init__\n",
      "    self._open_tsv()\n",
      "AttributeError: 'CovarProcessor' object has no attribute '_open_tsv'\n"
     ]
    }
   ],
   "source": [
    "!python pep-detective/pep_detective/bin/effect_detector.py -id smaple1 -i samples/smaple1.tsv -p 0.05"
   ]
  },
  {
   "cell_type": "code",
   "execution_count": null,
   "id": "ae26ef2a-2fa1-4f92-be28-0bdee683f371",
   "metadata": {},
   "outputs": [],
   "source": [
    "\"smaple1\": \"samples/smaple1.tsv\""
   ]
  }
 ],
 "metadata": {
  "kernelspec": {
   "display_name": "Python 3 (ipykernel)",
   "language": "python",
   "name": "python3"
  },
  "language_info": {
   "codemirror_mode": {
    "name": "ipython",
    "version": 3
   },
   "file_extension": ".py",
   "mimetype": "text/x-python",
   "name": "python",
   "nbconvert_exporter": "python",
   "pygments_lexer": "ipython3",
   "version": "3.10.5"
  }
 },
 "nbformat": 4,
 "nbformat_minor": 5
}
